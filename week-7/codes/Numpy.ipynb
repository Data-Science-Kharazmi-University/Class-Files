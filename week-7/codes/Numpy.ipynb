{
  "nbformat": 4,
  "nbformat_minor": 0,
  "metadata": {
    "colab": {
      "provenance": []
    },
    "kernelspec": {
      "name": "python3",
      "display_name": "Python 3"
    },
    "language_info": {
      "name": "python"
    }
  },
  "cells": [
    {
      "cell_type": "code",
      "source": [
        "! pip install Numpy"
      ],
      "metadata": {
        "colab": {
          "base_uri": "https://localhost:8080/"
        },
        "id": "z8c7Tzp7wal4",
        "outputId": "76d0b013-6d26-457e-9742-f91011697fca"
      },
      "execution_count": null,
      "outputs": [
        {
          "output_type": "stream",
          "name": "stdout",
          "text": [
            "Requirement already satisfied: Numpy in /usr/local/lib/python3.10/dist-packages (1.26.4)\n"
          ]
        }
      ]
    },
    {
      "cell_type": "markdown",
      "source": [
        "# **Creating arrays**"
      ],
      "metadata": {
        "id": "P5mXhw5O4GAk"
      }
    },
    {
      "cell_type": "code",
      "source": [
        "import numpy as np"
      ],
      "metadata": {
        "id": "5UDaGusIwqUF"
      },
      "execution_count": 2,
      "outputs": []
    },
    {
      "cell_type": "code",
      "source": [
        "a = np.array([1, 3, 5])\n",
        "print(a)\n"
      ],
      "metadata": {
        "id": "YcxFPOaQxBCy"
      },
      "execution_count": null,
      "outputs": []
    },
    {
      "cell_type": "code",
      "source": [
        "b = np.array([[1,2,6],[4,3,6]])\n",
        "print(b)"
      ],
      "metadata": {
        "colab": {
          "base_uri": "https://localhost:8080/"
        },
        "id": "YEQkCQK5wwB6",
        "outputId": "9704f2c7-c337-4ee6-90a7-9cd87366cdc1"
      },
      "execution_count": 5,
      "outputs": [
        {
          "output_type": "stream",
          "name": "stdout",
          "text": [
            "[[1 2 6]\n",
            " [4 3 6]]\n"
          ]
        }
      ]
    },
    {
      "cell_type": "code",
      "source": [
        "b = np.array([[[6,5,7],[8,7,9]],[[4,3,6],[4,3,5]]])\n",
        "print(b)\n",
        "print(b.shape)"
      ],
      "metadata": {
        "colab": {
          "base_uri": "https://localhost:8080/"
        },
        "id": "uE7KNOZN03Fn",
        "outputId": "f8c113f6-ec26-4d3c-c1e7-a9583c98df63"
      },
      "execution_count": 4,
      "outputs": [
        {
          "output_type": "stream",
          "name": "stdout",
          "text": [
            "[[[6 5 7]\n",
            "  [8 7 9]]\n",
            "\n",
            " [[4 3 6]\n",
            "  [4 3 5]]]\n",
            "(2, 2, 3)\n"
          ]
        }
      ]
    },
    {
      "cell_type": "code",
      "source": [
        "x = np.arange(10,100,5,dtype=float)\n",
        "\n",
        "x.reshape(3,6)"
      ],
      "metadata": {
        "id": "UsOKvMP41Ujg"
      },
      "execution_count": null,
      "outputs": []
    },
    {
      "cell_type": "code",
      "source": [
        "print(x.ndim)\n",
        "print(x.shape)\n",
        "print(x.size)\n",
        "print(x.dtype)\n",
        "print(type(x))"
      ],
      "metadata": {
        "colab": {
          "base_uri": "https://localhost:8080/"
        },
        "id": "ucAhJ4EJ3DTD",
        "outputId": "c14ca8a0-52ae-4700-9166-ca8b62865bd2"
      },
      "execution_count": null,
      "outputs": [
        {
          "output_type": "stream",
          "name": "stdout",
          "text": [
            "2\n",
            "(3, 6)\n",
            "18\n",
            "float64\n",
            "<class 'numpy.ndarray'>\n"
          ]
        }
      ]
    },
    {
      "cell_type": "markdown",
      "source": [
        "# **Spacial arrays**"
      ],
      "metadata": {
        "id": "LNItYyxA4cgV"
      }
    },
    {
      "cell_type": "code",
      "source": [
        "a = np.ones((3,4),dtype= int)\n",
        "b = np.zeros((2,3))\n",
        "c = np.full((2,2),6)\n",
        "print(\"a is:\",a)\n",
        "print(\"\\n b is:\",b)\n",
        "print(\"\\n c is:\",c)"
      ],
      "metadata": {
        "colab": {
          "base_uri": "https://localhost:8080/"
        },
        "id": "ogy_K8rL4gmF",
        "outputId": "152f463e-5716-40a2-a651-beba9157f50f"
      },
      "execution_count": null,
      "outputs": [
        {
          "output_type": "stream",
          "name": "stdout",
          "text": [
            "a is: [[1 1 1 1]\n",
            " [1 1 1 1]\n",
            " [1 1 1 1]]\n",
            "\n",
            "b is: [[0. 0. 0.]\n",
            " [0. 0. 0.]]\n",
            "\n",
            "c is: [[6 6]\n",
            " [6 6]]\n"
          ]
        }
      ]
    },
    {
      "cell_type": "code",
      "source": [
        "y = np.random.rand(2,3)\n",
        "y"
      ],
      "metadata": {
        "colab": {
          "base_uri": "https://localhost:8080/"
        },
        "id": "2RoTdD3_4gyp",
        "outputId": "33893169-f009-4117-fb7c-74d5645fea45"
      },
      "execution_count": null,
      "outputs": [
        {
          "output_type": "execute_result",
          "data": {
            "text/plain": [
              "array([[ 0.45624805,  0.41552727, -0.95404211],\n",
              "       [ 1.98155032,  0.25525736,  0.72460072]])"
            ]
          },
          "metadata": {},
          "execution_count": 26
        }
      ]
    },
    {
      "cell_type": "code",
      "source": [
        "z = np.random.randint(10,100, size= (3,4))\n",
        "z"
      ],
      "metadata": {
        "colab": {
          "base_uri": "https://localhost:8080/"
        },
        "id": "UcYq41QD4g18",
        "outputId": "851dfa92-03a2-4cc9-a8be-b248e530c4a0"
      },
      "execution_count": null,
      "outputs": [
        {
          "output_type": "execute_result",
          "data": {
            "text/plain": [
              "array([[26, 17, 62, 62],\n",
              "       [85, 99, 63, 66],\n",
              "       [25, 83, 70, 64]])"
            ]
          },
          "metadata": {},
          "execution_count": 28
        }
      ]
    },
    {
      "cell_type": "markdown",
      "source": [
        "# **Accessing/Changing specific elements, rows, columns, etc**"
      ],
      "metadata": {
        "id": "XlH61m0M3iWy"
      }
    },
    {
      "cell_type": "code",
      "source": [
        "a = np.array([[1,2,3,4,5,6,7],[8,9,10,11,12,13,14]])\n",
        "print(a)"
      ],
      "metadata": {
        "colab": {
          "base_uri": "https://localhost:8080/"
        },
        "id": "Dou5FWKD3uFD",
        "outputId": "012b5fa8-cf62-478f-f5f8-083f6a4a58aa"
      },
      "execution_count": null,
      "outputs": [
        {
          "output_type": "stream",
          "name": "stdout",
          "text": [
            "[[ 1  2  3  4  5  6  7]\n",
            " [ 8  9 10 11 12 13 14]]\n"
          ]
        }
      ]
    },
    {
      "cell_type": "code",
      "source": [
        "# Get a specific element [row_num, col_num]\n",
        "a[1, 5]"
      ],
      "metadata": {
        "colab": {
          "base_uri": "https://localhost:8080/"
        },
        "id": "nJIhz9Fd42H-",
        "outputId": "f30b6f3f-2a49-4997-f9ad-b817542e0d90"
      },
      "execution_count": null,
      "outputs": [
        {
          "output_type": "execute_result",
          "data": {
            "text/plain": [
              "13"
            ]
          },
          "metadata": {},
          "execution_count": 24
        }
      ]
    },
    {
      "cell_type": "code",
      "source": [
        "# Get a specific row\n",
        "a[0, :]"
      ],
      "metadata": {
        "colab": {
          "base_uri": "https://localhost:8080/"
        },
        "id": "GASxWlue48ry",
        "outputId": "0a244842-53a3-49a9-a568-3ee3cd6cb9af"
      },
      "execution_count": null,
      "outputs": [
        {
          "output_type": "execute_result",
          "data": {
            "text/plain": [
              "array([1, 2, 3, 4, 5, 6, 7])"
            ]
          },
          "metadata": {},
          "execution_count": 25
        }
      ]
    },
    {
      "cell_type": "code",
      "source": [
        "# Get a specific column\n",
        "a[:, 2]"
      ],
      "metadata": {
        "colab": {
          "base_uri": "https://localhost:8080/"
        },
        "id": "zPaAEjf85V3f",
        "outputId": "d0f17a95-e5e8-4018-93a1-cbb4a15789a0"
      },
      "execution_count": null,
      "outputs": [
        {
          "output_type": "execute_result",
          "data": {
            "text/plain": [
              "array([ 3, 10])"
            ]
          },
          "metadata": {},
          "execution_count": 26
        }
      ]
    },
    {
      "cell_type": "code",
      "source": [
        "a[0, 1:6:2]"
      ],
      "metadata": {
        "colab": {
          "base_uri": "https://localhost:8080/"
        },
        "id": "Pydo94dz55Oh",
        "outputId": "9b491fc6-da20-43d4-8dd6-e3d20a5a580d"
      },
      "execution_count": null,
      "outputs": [
        {
          "output_type": "execute_result",
          "data": {
            "text/plain": [
              "array([2, 4, 6])"
            ]
          },
          "metadata": {},
          "execution_count": 27
        }
      ]
    },
    {
      "cell_type": "code",
      "source": [
        "# Getting a little more fancy [startindex:endindex:stepsize]\n",
        "a[0, 1:-1:2]"
      ],
      "metadata": {
        "colab": {
          "base_uri": "https://localhost:8080/"
        },
        "id": "7BVKsJAe6JpB",
        "outputId": "c65f4083-7851-4e05-f307-76d814dc6834"
      },
      "execution_count": null,
      "outputs": [
        {
          "output_type": "execute_result",
          "data": {
            "text/plain": [
              "array([2, 4, 6])"
            ]
          },
          "metadata": {},
          "execution_count": 28
        }
      ]
    },
    {
      "cell_type": "code",
      "source": [
        "a[1,5] = 20\n",
        "\n",
        "a[:,2] = [1,2]\n",
        "print(a)"
      ],
      "metadata": {
        "colab": {
          "base_uri": "https://localhost:8080/"
        },
        "id": "0Ifb-76E7n0I",
        "outputId": "3d8e1dce-c7b0-4c41-ba7f-efc1e5e366ce"
      },
      "execution_count": null,
      "outputs": [
        {
          "output_type": "stream",
          "name": "stdout",
          "text": [
            "[[ 1  2  1  4  5  6  7]\n",
            " [ 8  9  2 11 12 20 14]]\n"
          ]
        }
      ]
    },
    {
      "cell_type": "markdown",
      "source": [
        "## **Be careful when copying arrays!!!**"
      ],
      "metadata": {
        "id": "2cJyinlVsd4-"
      }
    },
    {
      "cell_type": "code",
      "source": [
        "a = np.array([ 2, 5, 8])\n",
        "b = a\n",
        "b[0]=100\n",
        "print (b)\n",
        "print(a)"
      ],
      "metadata": {
        "colab": {
          "base_uri": "https://localhost:8080/"
        },
        "id": "WnfAZgjlrmf2",
        "outputId": "17c0c40f-5b32-40d8-8c1f-99e7d69e64dc"
      },
      "execution_count": null,
      "outputs": [
        {
          "output_type": "stream",
          "name": "stdout",
          "text": [
            "[100   5   8]\n",
            "[100   5   8]\n"
          ]
        }
      ]
    },
    {
      "cell_type": "code",
      "source": [
        "a = np.array([1,2,3])\n",
        "b = a.copy()\n",
        "b[0] = 100\n",
        "\n",
        "print(a)"
      ],
      "metadata": {
        "id": "60aa6z2Srmjw"
      },
      "execution_count": null,
      "outputs": []
    },
    {
      "cell_type": "markdown",
      "source": [
        "# **Array Mathematics**"
      ],
      "metadata": {
        "id": "h33F_at6tWXA"
      }
    },
    {
      "cell_type": "code",
      "source": [
        "a = np.arange(10,20)\n",
        "a = a.reshape(2,5)\n",
        "print(a)\n",
        "b = np.ones((2,5))\n",
        "print(b)"
      ],
      "metadata": {
        "colab": {
          "base_uri": "https://localhost:8080/"
        },
        "id": "0lucinnKtVLP",
        "outputId": "c8a5d2a3-3045-4d64-a051-c3e4c9716ace"
      },
      "execution_count": null,
      "outputs": [
        {
          "output_type": "stream",
          "name": "stdout",
          "text": [
            "[[10 11 12 13 14]\n",
            " [15 16 17 18 19]]\n",
            "[[1. 1. 1. 1. 1.]\n",
            " [1. 1. 1. 1. 1.]]\n"
          ]
        }
      ]
    },
    {
      "cell_type": "code",
      "source": [
        "print(a+b)"
      ],
      "metadata": {
        "colab": {
          "base_uri": "https://localhost:8080/"
        },
        "id": "hCWpluKdtVOB",
        "outputId": "34f75554-f5c0-469b-93b9-3dbbf217a10b"
      },
      "execution_count": null,
      "outputs": [
        {
          "output_type": "stream",
          "name": "stdout",
          "text": [
            "[[11. 12. 13. 14. 15.]\n",
            " [16. 17. 18. 19. 20.]]\n"
          ]
        }
      ]
    },
    {
      "cell_type": "code",
      "source": [
        "print(a-b)"
      ],
      "metadata": {
        "colab": {
          "base_uri": "https://localhost:8080/"
        },
        "id": "rFG6W0qztVQ5",
        "outputId": "0169e965-170e-4844-f5ae-e0c02e24f5d8"
      },
      "execution_count": null,
      "outputs": [
        {
          "output_type": "stream",
          "name": "stdout",
          "text": [
            "[[ 9. 10. 11. 12. 13.]\n",
            " [14. 15. 16. 17. 18.]]\n"
          ]
        }
      ]
    },
    {
      "cell_type": "code",
      "source": [
        "print(a*b)"
      ],
      "metadata": {
        "colab": {
          "base_uri": "https://localhost:8080/"
        },
        "id": "T4f7lJOh8QL8",
        "outputId": "5bf2dd0b-b941-4b41-a2ec-b7c329579809"
      },
      "execution_count": null,
      "outputs": [
        {
          "output_type": "stream",
          "name": "stdout",
          "text": [
            "[[10. 11. 12. 13. 14.]\n",
            " [15. 16. 17. 18. 19.]]\n"
          ]
        }
      ]
    },
    {
      "cell_type": "code",
      "source": [
        "print(a**2)"
      ],
      "metadata": {
        "colab": {
          "base_uri": "https://localhost:8080/"
        },
        "id": "2IDNJIpQtpUB",
        "outputId": "23e968ce-14a8-4379-e2cb-774eb675f316"
      },
      "execution_count": null,
      "outputs": [
        {
          "output_type": "stream",
          "name": "stdout",
          "text": [
            "[[100 121 144 169 196]\n",
            " [225 256 289 324 361]]\n"
          ]
        }
      ]
    },
    {
      "cell_type": "markdown",
      "source": [
        "# np.dot(a,b)\n",
        "# More information\n",
        "Reference docs (https://docs.scipy.org/doc/numpy/reference/routines.linalg.html)\n",
        "\n",
        "###Determinant\n",
        "### Trace\n",
        "### Singular Vector Decomposition\n",
        "### Eigenvalues\n",
        "### Matrix Norm\n",
        "###Inverse\n",
        "### Etc..."
      ],
      "metadata": {
        "id": "21YaZUP7x_bj"
      }
    },
    {
      "cell_type": "markdown",
      "source": [
        "# **Statistics**"
      ],
      "metadata": {
        "id": "925iOdHKzNl6"
      }
    },
    {
      "cell_type": "code",
      "source": [
        "s = np.array([[6,2,3],[4,1,6]])\n",
        "s"
      ],
      "metadata": {
        "id": "tVHLGTZoyphk",
        "colab": {
          "base_uri": "https://localhost:8080/"
        },
        "outputId": "86e79572-7839-4db2-9984-a424b1cfdc02"
      },
      "execution_count": 8,
      "outputs": [
        {
          "output_type": "execute_result",
          "data": {
            "text/plain": [
              "array([[6, 2, 3],\n",
              "       [4, 1, 6]])"
            ]
          },
          "metadata": {},
          "execution_count": 8
        }
      ]
    },
    {
      "cell_type": "code",
      "source": [
        "print(np.min(s))\n",
        "print(np.argmin(s))\n",
        "print(np.argmin(s,axis = 1))"
      ],
      "metadata": {
        "colab": {
          "base_uri": "https://localhost:8080/"
        },
        "id": "BmPmtRXrypkq",
        "outputId": "d99329db-0319-4daf-9e6e-57bf87060fec"
      },
      "execution_count": 9,
      "outputs": [
        {
          "output_type": "stream",
          "name": "stdout",
          "text": [
            "1\n",
            "4\n",
            "[1 1]\n"
          ]
        }
      ]
    },
    {
      "cell_type": "code",
      "source": [
        "np.max(s, axis=1)"
      ],
      "metadata": {
        "colab": {
          "base_uri": "https://localhost:8080/"
        },
        "id": "AyPMGfBXypng",
        "outputId": "1478d4b0-36ca-4bf9-ef83-9d6b56cd5bf7"
      },
      "execution_count": null,
      "outputs": [
        {
          "output_type": "execute_result",
          "data": {
            "text/plain": [
              "array([6, 6])"
            ]
          },
          "metadata": {},
          "execution_count": 48
        }
      ]
    },
    {
      "cell_type": "code",
      "source": [
        "np.sum(s, axis=0)"
      ],
      "metadata": {
        "id": "mBiukre2z1v6",
        "colab": {
          "base_uri": "https://localhost:8080/"
        },
        "outputId": "a0bc273c-2121-40f0-e25a-96583a444552"
      },
      "execution_count": null,
      "outputs": [
        {
          "output_type": "execute_result",
          "data": {
            "text/plain": [
              "array([10,  3,  9])"
            ]
          },
          "metadata": {},
          "execution_count": 49
        }
      ]
    },
    {
      "cell_type": "code",
      "source": [
        "np.sort(s)"
      ],
      "metadata": {
        "colab": {
          "base_uri": "https://localhost:8080/"
        },
        "id": "0Ju_rN2O1QRb",
        "outputId": "f8fa2af7-88bc-4996-a4a3-d22f666ce2f4"
      },
      "execution_count": null,
      "outputs": [
        {
          "output_type": "execute_result",
          "data": {
            "text/plain": [
              "array([[4, 1, 3],\n",
              "       [6, 2, 6]])"
            ]
          },
          "metadata": {},
          "execution_count": 52
        }
      ]
    },
    {
      "cell_type": "markdown",
      "source": [
        "# **Reorganizing Arrays**"
      ],
      "metadata": {
        "id": "SLcyaH-Z0mRa"
      }
    },
    {
      "cell_type": "code",
      "source": [
        "# Vertical stacking\n",
        "v1 = np.array([[6,2,3],[4,1,6]])\n",
        "v2 = np.array([7,6,9])\n",
        "print(\" v1 shape :\",v1.shape)\n",
        "print(\" v2 shape :\",v2.shape)\n"
      ],
      "metadata": {
        "colab": {
          "base_uri": "https://localhost:8080/"
        },
        "id": "1RSOyGGb0BSs",
        "outputId": "0f7cebc4-4c3d-4e67-b5e9-9b325b10d519"
      },
      "execution_count": 10,
      "outputs": [
        {
          "output_type": "stream",
          "name": "stdout",
          "text": [
            " v1 shape : (2, 3)\n",
            " v2 shape : (3,)\n"
          ]
        }
      ]
    },
    {
      "cell_type": "code",
      "source": [
        "v = np.vstack([v1,v2])\n",
        "print(v)\n",
        "print(\" v shape :\",v.shape)"
      ],
      "metadata": {
        "colab": {
          "base_uri": "https://localhost:8080/"
        },
        "id": "mHMf_V38ag3J",
        "outputId": "a90ac283-5b7e-4f80-ca9f-fd218989df98"
      },
      "execution_count": null,
      "outputs": [
        {
          "output_type": "stream",
          "name": "stdout",
          "text": [
            "[[6 2 3]\n",
            " [4 1 6]\n",
            " [7 6 9]]\n",
            " v shape : (3, 3)\n"
          ]
        }
      ]
    },
    {
      "cell_type": "code",
      "source": [
        "# Horizontal  stacking\n",
        "h1 = np.ones((2,4))\n",
        "h2 = np.zeros((2,2))\n",
        "\n",
        "h = np.hstack((h1,h2))\n",
        "print(h)"
      ],
      "metadata": {
        "colab": {
          "base_uri": "https://localhost:8080/"
        },
        "id": "9dM3cYL33acr",
        "outputId": "821c3b74-d53d-4338-9260-0af2b5fac8f2"
      },
      "execution_count": null,
      "outputs": [
        {
          "output_type": "stream",
          "name": "stdout",
          "text": [
            "[[1. 1. 1. 1. 0. 0.]\n",
            " [1. 1. 1. 1. 0. 0.]]\n"
          ]
        }
      ]
    },
    {
      "cell_type": "code",
      "source": [
        "np.savetxt(\"data.csv\",h,delimiter=\",\")"
      ],
      "metadata": {
        "id": "p_VVOqHjgJX5"
      },
      "execution_count": null,
      "outputs": []
    },
    {
      "cell_type": "markdown",
      "source": [
        "# **load data**"
      ],
      "metadata": {
        "id": "36o0PTvtMu7D"
      }
    },
    {
      "cell_type": "code",
      "source": [
        "# load data from file\n",
        "data = np.genfromtxt('data.txt', delimiter=',')\n",
        "data = data.astype('int')\n",
        "print(data)\n"
      ],
      "metadata": {
        "colab": {
          "base_uri": "https://localhost:8080/"
        },
        "id": "n3Oe9STh5VUc",
        "outputId": "d4e63e2c-075d-44be-edae-1a8a8c8f1a6e"
      },
      "execution_count": 14,
      "outputs": [
        {
          "output_type": "stream",
          "name": "stdout",
          "text": [
            "[[  1  13  21  11 196  75   4   3  34   6   7   8   0   1   2   3   4   5]\n",
            " [  3  42  12  33 766  75   4  55   6   4   3   4   5   6   7   0  11  12]\n",
            " [  1  22  33  11 999  11   2   1  78   0   1   2   9   8   7   1  76  88]]\n"
          ]
        }
      ]
    },
    {
      "cell_type": "markdown",
      "source": [
        "# **Boolean Masking and Advanced Indexing**"
      ],
      "metadata": {
        "id": "gLd8NTTy6XDw"
      }
    },
    {
      "cell_type": "code",
      "source": [
        "data > 50"
      ],
      "metadata": {
        "colab": {
          "base_uri": "https://localhost:8080/"
        },
        "id": "C-lrFgux6dKo",
        "outputId": "e6359923-76f1-4106-994a-21b01e5b5dc5"
      },
      "execution_count": 15,
      "outputs": [
        {
          "output_type": "execute_result",
          "data": {
            "text/plain": [
              "array([[False, False, False, False,  True,  True, False, False, False,\n",
              "        False, False, False, False, False, False, False, False, False],\n",
              "       [False, False, False, False,  True,  True, False,  True, False,\n",
              "        False, False, False, False, False, False, False, False, False],\n",
              "       [False, False, False, False,  True, False, False, False,  True,\n",
              "        False, False, False, False, False, False, False,  True,  True]])"
            ]
          },
          "metadata": {},
          "execution_count": 15
        }
      ]
    },
    {
      "cell_type": "code",
      "source": [
        "data[data > 50]"
      ],
      "metadata": {
        "colab": {
          "base_uri": "https://localhost:8080/"
        },
        "id": "1LdCNTHp6nAj",
        "outputId": "013ae377-20b2-4672-cf76-c1645a8d27e7"
      },
      "execution_count": 16,
      "outputs": [
        {
          "output_type": "execute_result",
          "data": {
            "text/plain": [
              "array([196,  75, 766,  75,  55, 999,  78,  76,  88])"
            ]
          },
          "metadata": {},
          "execution_count": 16
        }
      ]
    },
    {
      "cell_type": "code",
      "source": [
        "np.any(filedata>50, axis=0)"
      ],
      "metadata": {
        "id": "EB1E66de66AZ",
        "colab": {
          "base_uri": "https://localhost:8080/"
        },
        "outputId": "030f9acb-1bd2-429a-d038-66b099f8989b"
      },
      "execution_count": 17,
      "outputs": [
        {
          "output_type": "execute_result",
          "data": {
            "text/plain": [
              "array([False, False, False, False,  True,  True, False,  True,  True,\n",
              "       False, False, False, False, False, False, False,  True,  True])"
            ]
          },
          "metadata": {},
          "execution_count": 17
        }
      ]
    },
    {
      "cell_type": "code",
      "source": [
        "filedata[:,~(np.any(filedata>50, axis=0))]"
      ],
      "metadata": {
        "id": "_Xc8LCTzDJoQ",
        "colab": {
          "base_uri": "https://localhost:8080/"
        },
        "outputId": "c8a07c3e-e5d7-457e-932a-2a4b78563211"
      },
      "execution_count": 18,
      "outputs": [
        {
          "output_type": "execute_result",
          "data": {
            "text/plain": [
              "array([[ 1, 13, 21, 11,  4,  6,  7,  8,  0,  1,  2,  3],\n",
              "       [ 3, 42, 12, 33,  4,  4,  3,  4,  5,  6,  7,  0],\n",
              "       [ 1, 22, 33, 11,  2,  0,  1,  2,  9,  8,  7,  1]])"
            ]
          },
          "metadata": {},
          "execution_count": 18
        }
      ]
    },
    {
      "cell_type": "code",
      "source": [
        "np.all(data>50,axis=1)"
      ],
      "metadata": {
        "id": "rD6LUC4v66Cu",
        "colab": {
          "base_uri": "https://localhost:8080/"
        },
        "outputId": "254ad6a6-3438-4773-d26d-95757faae5ea"
      },
      "execution_count": 20,
      "outputs": [
        {
          "output_type": "execute_result",
          "data": {
            "text/plain": [
              "array([False, False, False])"
            ]
          },
          "metadata": {},
          "execution_count": 20
        }
      ]
    },
    {
      "cell_type": "code",
      "source": [
        "data[:, np.all(data>50,axis=0)]"
      ],
      "metadata": {
        "id": "J6owKr2_DjcB",
        "colab": {
          "base_uri": "https://localhost:8080/"
        },
        "outputId": "59af6ddf-c559-44ec-e0a4-b47179d35f05"
      },
      "execution_count": 21,
      "outputs": [
        {
          "output_type": "execute_result",
          "data": {
            "text/plain": [
              "array([[196],\n",
              "       [766],\n",
              "       [999]])"
            ]
          },
          "metadata": {},
          "execution_count": 21
        }
      ]
    },
    {
      "cell_type": "code",
      "source": [
        "data[((filedata > 50) & (filedata < 100))]"
      ],
      "metadata": {
        "id": "Z5CoYlj58wNz",
        "colab": {
          "base_uri": "https://localhost:8080/"
        },
        "outputId": "823ba968-6631-4507-dc6c-3ab942e7526b"
      },
      "execution_count": 24,
      "outputs": [
        {
          "output_type": "execute_result",
          "data": {
            "text/plain": [
              "array([75, 75, 55, 78, 76, 88])"
            ]
          },
          "metadata": {},
          "execution_count": 24
        }
      ]
    },
    {
      "cell_type": "code",
      "source": [
        "a = np. random.randint(-5,10, size = (6,6))\n",
        "a"
      ],
      "metadata": {
        "id": "maQySRv29kB7",
        "colab": {
          "base_uri": "https://localhost:8080/"
        },
        "outputId": "337147d6-02a1-4f25-fe65-54068f01e41f"
      },
      "execution_count": 26,
      "outputs": [
        {
          "output_type": "execute_result",
          "data": {
            "text/plain": [
              "array([[ 7,  1, -5, -2,  8,  4],\n",
              "       [ 6,  2, -1, -4, -4,  7],\n",
              "       [ 5,  6,  3,  0,  6,  4],\n",
              "       [ 2,  9, -5,  1,  4,  8],\n",
              "       [ 0,  3,  7, -3,  8,  7],\n",
              "       [ 0, -2,  0,  5,  8,  2]])"
            ]
          },
          "metadata": {},
          "execution_count": 26
        }
      ]
    },
    {
      "cell_type": "code",
      "source": [
        "a[2:4,0:2]"
      ],
      "metadata": {
        "id": "IJTtS3JH9kH6"
      },
      "execution_count": null,
      "outputs": []
    },
    {
      "cell_type": "code",
      "source": [
        "a[[0,1,2],[1,2,3]]\n",
        "a"
      ],
      "metadata": {
        "id": "U7Wwo2rq-kMM"
      },
      "execution_count": null,
      "outputs": []
    },
    {
      "cell_type": "code",
      "source": [
        "#Find indices of non-zero elements\n",
        "r = np.nonzero(a)\n",
        "print(r)\n"
      ],
      "metadata": {
        "id": "JCEJCKBLdGIv",
        "colab": {
          "base_uri": "https://localhost:8080/"
        },
        "outputId": "66f412ca-fae5-4f4a-8b00-93e803c1cb87"
      },
      "execution_count": 30,
      "outputs": [
        {
          "output_type": "stream",
          "name": "stdout",
          "text": [
            "(array([0, 0, 0, 0, 0, 0, 1, 1, 1, 1, 1, 1, 2, 2, 2, 2, 2, 3, 3, 3, 3, 3,\n",
            "       3, 4, 4, 4, 4, 4, 5, 5, 5, 5]), array([0, 1, 2, 3, 4, 5, 0, 1, 2, 3, 4, 5, 0, 1, 2, 4, 5, 0, 1, 2, 3, 4,\n",
            "       5, 1, 2, 3, 4, 5, 1, 3, 4, 5]))\n"
          ]
        }
      ]
    },
    {
      "cell_type": "code",
      "source": [
        "Z = np.random.random((10,10))\n",
        "Zmin, Zmax = Z.min(), Z.max()\n",
        "print(Zmin, Zmax)"
      ],
      "metadata": {
        "id": "6HyceJAwdp_j"
      },
      "execution_count": null,
      "outputs": []
    },
    {
      "cell_type": "code",
      "source": [
        "#  Normalize a 5x5 random matrix\n",
        "\n",
        "Z = np.random.randint(10,size=(5,5))\n",
        "print(Z)\n",
        "Z = (Z - np.mean (Z)) / (np.max(Z)-np.min(Z))\n",
        "print(Z)"
      ],
      "metadata": {
        "id": "tz6njlEzemw1"
      },
      "execution_count": null,
      "outputs": []
    },
    {
      "cell_type": "code",
      "source": [
        "# Multiply a 5x3 matrix by a 3x2 matrix (real matrix product)\n",
        "\n",
        "Z = np.dot(np.ones((5,3)), np.ones((3,2)))\n",
        "print(Z)\n"
      ],
      "metadata": {
        "id": "1pbuK1zggEFg"
      },
      "execution_count": null,
      "outputs": []
    },
    {
      "cell_type": "code",
      "source": [
        "# How to find common values between two arrays?\n",
        "#(function ntersect1dfind the intersection of two arrays and returns the sorted, unique values that are in both of the input arrays.)\n",
        "\n",
        "Z1 = np.random.randint(0,10,size=(3,3))\n",
        "print(Z1)\n",
        "Z2 = np.random.randint(0,10,size=(3,3))\n",
        "print(Z2)\n",
        "print(np.intersect1d(Z1,Z2))"
      ],
      "metadata": {
        "id": "ja_9lemAgtvp"
      },
      "execution_count": null,
      "outputs": []
    },
    {
      "cell_type": "code",
      "source": [
        "A = np.array([10,4,6,7,1,5,3,4,24,1,1,9,10,10,18])\n",
        "B = np.array([1,4,5,6,7,8,9])\n",
        "print(np.in1d(A, B))\n",
        "C = A[np.in1d(A, B)]\n",
        "print(C)"
      ],
      "metadata": {
        "id": "KoKbB97Jh_Q2"
      },
      "execution_count": null,
      "outputs": []
    },
    {
      "cell_type": "code",
      "source": [
        "d2 = np. random.choice([\"ap\", \"df\", \"ks\", \"ks\"], size= (3,3), replace=True, p=None)\n",
        "print(d2)"
      ],
      "metadata": {
        "id": "ony5XA2smIPI"
      },
      "execution_count": null,
      "outputs": []
    }
  ]
}